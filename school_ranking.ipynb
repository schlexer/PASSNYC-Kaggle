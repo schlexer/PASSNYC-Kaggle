{
 "cells": [
  {
   "cell_type": "markdown",
   "metadata": {
    "_uuid": "05bc698bc10353b9e57b8e2c6118213413144459"
   },
   "source": [
    "**How good are the best, how bad are the worst schools?**\n\nWith this script, we explore the performance of schools in terms of student test registration and participation. The data are normalized to the student in the school and compared in percentiles, by year.\nFinally, we save an augmented version of the D5 SHSAT Registrations and Testers data set, which now contains percentiles of registration and participation. "
   ]
  },
  {
   "cell_type": "code",
   "execution_count": null,
   "metadata": {
    "_uuid": "8f2839f25d086af736a60e9eeb907d3b93b6e0e5",
    "_cell_guid": "b1076dfc-b9ad-4769-8c92-a6c4dae69d19",
    "trusted": true,
    "collapsed": true
   },
   "outputs": [],
   "source": [
    "import numpy as np\n",
    "from matplotlib import pyplot as plt\n",
    "from mpl_toolkits.mplot3d import Axes3D\n",
    "import os\n",
    "import pandas as pd\n",
    "from scipy import stats"
   ]
  },
  {
   "cell_type": "code",
   "execution_count": null,
   "metadata": {
    "trusted": true,
    "collapsed": true,
    "_uuid": "0de1a795d4eb24668fd89f9b035898017c19f6c1"
   },
   "outputs": [],
   "source": [
    "# function file to data frame\n",
    "def file_to_df(file):\n",
    "    filename, file_extension = os.path.splitext(file)\n",
    "    if file_extension=='.csv':\n",
    "        df = pd.read_csv(file, sep=',', header=0)\n",
    "    elif file_extension=='.tsv':\n",
    "        df = pd.read_csv(file, sep='\\t', header=0)\n",
    "    else:\n",
    "        print('Please provide csv or tsv file format.')\n",
    "    return df\n"
   ]
  },
  {
   "cell_type": "code",
   "execution_count": null,
   "metadata": {
    "trusted": true,
    "_uuid": "beb09fb6587a9c5fdb8025f66e0cb5fe7bba840c"
   },
   "outputs": [],
   "source": [
    "# read in the data and give the columns useful names\n",
    "df = file_to_df('../input/data-science-for-good/D5 SHSAT Registrations and Testers.csv')\n",
    "colnames = ['DBN','school_name','year','grade','october_school_enrollment','registered_for_test','took_test']\n",
    "df.columns = colnames\n",
    "df = df.sort_values(by=['registered_for_test'])\n",
    "# print(df.head())\n"
   ]
  },
  {
   "cell_type": "markdown",
   "metadata": {
    "_uuid": "1fc6ee73f0eacaeeaba23fa4fd44277cd49533d3"
   },
   "source": [
    "For a fair comparison, we have to relate all measures (like registrations to the test) to the overall students in the school. Once we calculated this ratio, we can determine the percentile rank of each school to see how the schools perform compared to each other!\n"
   ]
  },
  {
   "cell_type": "code",
   "execution_count": null,
   "metadata": {
    "trusted": true,
    "collapsed": true,
    "_uuid": "527bd66efaf1f6c3d890419fd78d26cc65d81a1e"
   },
   "outputs": [],
   "source": [
    "# calculate the ratios\n",
    "df['enroll_to_take_ratio'] = np.nan_to_num(df['took_test']/df['october_school_enrollment']*100.00)\n",
    "df['register_to_take_ratio'] = df['took_test']/df['registered_for_test']*100.00\n",
    "df['register_to_take_ratio'] = df['register_to_take_ratio'].dropna()\n",
    "df = df.sort_values(by=['year','enroll_to_take_ratio'],ascending=True)\n"
   ]
  },
  {
   "cell_type": "code",
   "execution_count": null,
   "metadata": {
    "trusted": true,
    "collapsed": true,
    "_uuid": "d8f84665d0523d34c5c110cc2eb5b7988ba4343a"
   },
   "outputs": [],
   "source": [
    "# create a funciton to calculate the percentiles\n",
    "def get_percentiles(column, bins_percentile = [0,20,40,60,80,100]):\n",
    "    data_percentile = 100*column.rank(pct=True, method='min')\n",
    "    steps = 100/len(bins_percentile)-1\n",
    "    bins = steps*np.digitize(data_percentile, bins_percentile, right=True)\n",
    "    return data_percentile, bins"
   ]
  },
  {
   "cell_type": "code",
   "execution_count": null,
   "metadata": {
    "trusted": true,
    "_uuid": "3e24a0378579337083053e3f3a98bb2c1ad26b93",
    "collapsed": true
   },
   "outputs": [],
   "source": [
    "# calculate the percentile ranks of the relevant columns\n",
    "df['enroll_to_take_ratio_percentiles'] = get_percentiles(df['enroll_to_take_ratio'])[0]\n",
    "df['enroll_to_take_ratio_bins'] = get_percentiles(df['enroll_to_take_ratio'])[1]\n",
    "df['register_to_take_ratio_percentiles'] = get_percentiles(df['register_to_take_ratio'])[0]\n",
    "df['register_to_take_ratio_bins'] = get_percentiles(df['register_to_take_ratio'])[1]"
   ]
  },
  {
   "cell_type": "markdown",
   "metadata": {
    "_uuid": "4c658f7fc75531b680484f589c675d0a1e60f646"
   },
   "source": [
    "**How much percent of the students actually take the test for the best performing and worst performing schools? **\n\nWith this plot we can answer this question. Onthe z-axis, the percentage of students taking the test is shown. x shows the year and y shows the percentile rank of the school.\nThe overall relative and absolute perfomeance of all schools together does not change too much over the years. \n"
   ]
  },
  {
   "cell_type": "code",
   "execution_count": null,
   "metadata": {
    "trusted": true,
    "_uuid": "226cfe5cbff67ed16eca211ca8590388e7173857"
   },
   "outputs": [],
   "source": [
    "fig = plt.figure()\n",
    "ax = fig.add_subplot(111, projection='3d')\n",
    "x = df['year']\n",
    "y = df['enroll_to_take_ratio_bins']\n",
    "z = df['enroll_to_take_ratio']\n",
    "ax.scatter(x, y, z)\n",
    "plt.ylim((0,100))\n",
    "ax.set_xticks(np.arange(min(x), max(x)+1, 1.0))\n",
    "ax.set_yticks(np.arange(10, 100, 20.0))\n",
    "plt.xlabel(r'Year', fontsize=16)\n",
    "plt.ylabel(r'Percentile', fontsize=16)\n",
    "plt.title(r'Percent pupils taking test', fontsize=16)\n",
    "plt.show()\n",
    "\n"
   ]
  },
  {
   "cell_type": "markdown",
   "metadata": {
    "_uuid": "6f3af6e78fc1b4da600c53f14b41ca5faa270ce2"
   },
   "source": [
    "**How many of the registered students actually take the test?**\n\nIn the best schools, almost 100% of the registered students actually take the test. In the lowest percentile, the number of participants actually improved from 2013 to 2016.\nSo, another more specific aim would be to increase the number of students who registered for the test to actually take the test. In the lowest percentile bins  less than 50% of registered students actually take the test. "
   ]
  },
  {
   "cell_type": "code",
   "execution_count": null,
   "metadata": {
    "trusted": true,
    "_uuid": "b5aaba22ee5165cf8f82cffee5fd8567c1694db8"
   },
   "outputs": [],
   "source": [
    "fig = plt.figure()\n",
    "ax = fig.add_subplot(111, projection='3d')\n",
    "x = df['year']\n",
    "y = df['register_to_take_ratio_bins']\n",
    "z = df['register_to_take_ratio']\n",
    "ax.scatter(x, y, z)\n",
    "plt.ylim((0,100))\n",
    "ax.set_xticks(np.arange(min(x), max(x)+1, 1.0))\n",
    "ax.set_yticks(np.arange(0, 100, 20.0))\n",
    "plt.title(r'Percent registered pupils taking test', fontsize=16)\n",
    "plt.show()\n"
   ]
  },
  {
   "cell_type": "markdown",
   "metadata": {
    "_uuid": "6a8ece7743f453f46a4b2912d0ecc0998c3b7ec2"
   },
   "source": [
    "Finally, we want to dump the new normalized data and percentiles to a new data set."
   ]
  },
  {
   "cell_type": "code",
   "execution_count": null,
   "metadata": {
    "trusted": true,
    "collapsed": true,
    "_uuid": "a61741d77b6ee17f1cf5844b02d16f284eea7caa"
   },
   "outputs": [],
   "source": [
    "df['register_percentile'] = get_percentiles(df['registered_for_test'])[0]\n",
    "df['took_test_percentile'] = get_percentiles(df['took_test'])[0]\n",
    "file_name = 'augmented_D5_SHSAT_Registrations_and_Testers.csv'\n",
    "df.to_csv(file_name)\n"
   ]
  },
  {
   "cell_type": "code",
   "execution_count": null,
   "metadata": {
    "trusted": true,
    "collapsed": true,
    "_uuid": "e902314f1c4385c836c402e619f5a0903c62efbf"
   },
   "outputs": [],
   "source": [
    ""
   ]
  },
  {
   "cell_type": "code",
   "execution_count": null,
   "metadata": {
    "trusted": true,
    "collapsed": true,
    "_uuid": "c1b26537919a4bea262fcaf3bff94785a289a819"
   },
   "outputs": [],
   "source": [
    ""
   ]
  },
  {
   "cell_type": "code",
   "execution_count": null,
   "metadata": {
    "trusted": true,
    "collapsed": true,
    "_uuid": "4f232a87c55681a1fa2079f495c196b27c8277a2"
   },
   "outputs": [],
   "source": [
    ""
   ]
  },
  {
   "cell_type": "code",
   "execution_count": null,
   "metadata": {
    "trusted": true,
    "collapsed": true,
    "_uuid": "1ceb1e5770beffa09f67894b8a329b4c849987c1"
   },
   "outputs": [],
   "source": [
    ""
   ]
  }
 ],
 "metadata": {
  "kernelspec": {
   "display_name": "Python 3",
   "language": "python",
   "name": "python3"
  },
  "language_info": {
   "name": "python",
   "version": "3.6.6",
   "mimetype": "text/x-python",
   "codemirror_mode": {
    "name": "ipython",
    "version": 3
   },
   "pygments_lexer": "ipython3",
   "nbconvert_exporter": "python",
   "file_extension": ".py"
  }
 },
 "nbformat": 4,
 "nbformat_minor": 1
}
