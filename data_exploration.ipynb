{
 "cells": [
  {
   "cell_type": "code",
   "execution_count": null,
   "metadata": {
    "collapsed": true
   },
   "outputs": [],
   "source": [
    "import numpy as np\n",
    "from matplotlib import pyplot as plt\n",
    "from mpl_toolkits.mplot3d import Axes3D\n",
    "import os\n",
    "import pandas as pd\n",
    "from scipy import stats\n"
   ]
  },
  {
   "cell_type": "markdown",
   "metadata": {
    "collapsed": true
   },
   "source": [
    "Witht his script, we explore the performance of schools in terms of test registration and actual test taking. A very good way to compare the schools is to determine their performance in percentiles. \n",
    "First, we will read in and polish the data and then explore their distribution. "
   ]
  },
  {
   "cell_type": "code",
   "execution_count": 6,
   "metadata": {},
   "outputs": [],
   "source": [
    "# function file to data frame\n",
    "def file_to_df(file):\n",
    "    filename, file_extension = os.path.splitext(file)\n",
    "    if file_extension=='.csv':\n",
    "        df = pd.read_csv(file, sep=',', header=0)\n",
    "    elif file_extension=='.tsv':\n",
    "        df = pd.read_csv(file, sep='\\t', header=0)\n",
    "    else:\n",
    "        print('Please provide csv or tsv file format.')\n",
    "    return df\n"
   ]
  },
  {
   "cell_type": "code",
   "execution_count": 7,
   "metadata": {},
   "outputs": [
    {
     "name": "stdout",
     "output_type": "stream",
     "text": [
      "        DBN                                        school_name  year  grade  \\\n112  84M350                      Democracy Prep Charter School  2013      9   \n76   05M670  Thurgood Marshall Academy for Learning and Soc...  2015      9   \n126  84M481               Democracy Prep Harlem Charter School  2014      9   \n113  84M350                      Democracy Prep Charter School  2014      9   \n52   05M369      Urban Assembly School for the Performing Arts  2016      9   \n\n     october_school_enrollment  registered_for_test  took_test  \n112                        124                    0          0  \n76                          98                    0          0  \n126                        119                    0          0  \n113                        122                    0          0  \n52                         118                    0          0  \n"
     ]
    }
   ],
   "source": [
    "# read in the data and give the columns useful names\n",
    "df = file_to_df('D5_SHSAT_Registrations_and_Testers.csv')\n",
    "colnames = ['DBN','school_name','year','grade','october_school_enrollment','registered_for_test','took_test']\n",
    "df.columns = colnames\n",
    "df = df.sort_values(by=['registered_for_test'])\n",
    "print(df.head())\n"
   ]
  },
  {
   "cell_type": "markdown",
   "metadata": {
    "collapsed": true
   },
   "source": [
    "In fact, for a fair comparison, we have to gauge all measures (like registrations to the test) to the overall pupils in the school\n"
   ]
  },
  {
   "cell_type": "code",
   "execution_count": 8,
   "metadata": {
    "collapsed": true
   },
   "outputs": [],
   "source": [
    "# calculate the ratios\n",
    "df['enroll_to_take_ratio'] = np.nan_to_num(df['took_test']/df['october_school_enrollment']*100.00)\n",
    "df['register_to_take_ratio'] = df['took_test']/df['registered_for_test']*100.00\n",
    "df['register_to_take_ratio'] = df['register_to_take_ratio'].dropna()\n",
    "df = df.sort_values(by=['year','enroll_to_take_ratio'],ascending=True)\n"
   ]
  },
  {
   "cell_type": "markdown",
   "metadata": {
    "collapsed": true
   },
   "source": [
    "For a standardized view of the distribution of the data, we use percentiles.\n"
   ]
  },
  {
   "cell_type": "code",
   "execution_count": 9,
   "metadata": {
    "collapsed": true
   },
   "outputs": [],
   "source": [
    "def get_percentiles(column, bins_percentile = [0,20,40,60,80,100]):\n",
    "    # data_percentile = 100*((stats.rankdata(column, 'min')-1)/len(x))\n",
    "    data_percentile = 100*column.rank(pct=True, method='min')\n",
    "    steps = 100/len(bins_percentile)-1\n",
    "    bins = steps*np.digitize(data_percentile, bins_percentile, right=True)\n",
    "    return data_percentile, bins"
   ]
  },
  {
   "cell_type": "code",
   "execution_count": 10,
   "metadata": {
    "collapsed": true
   },
   "outputs": [],
   "source": [
    "df['enroll_to_take_ratio_percentiles'] = get_percentiles(df['enroll_to_take_ratio'])[0]\n",
    "df['enroll_to_take_ratio_bins'] = get_percentiles(df['enroll_to_take_ratio'])[1]\n",
    "df['register_to_take_ratio_percentiles'] = get_percentiles(df['register_to_take_ratio'])[0]\n",
    "df['register_to_take_ratio_bins'] = get_percentiles(df['register_to_take_ratio'])[1]"
   ]
  },
  {
   "cell_type": "code",
   "execution_count": 11,
   "metadata": {},
   "outputs": [],
   "source": [
    "fig = plt.figure()\n",
    "ax = fig.add_subplot(111, projection='3d')\n",
    "x = df['year']\n",
    "y = df['enroll_to_take_ratio_bins']\n",
    "z = df['enroll_to_take_ratio']\n",
    "ax.scatter(x, y, z)\n",
    "plt.ylim((0,100))\n",
    "ax.set_xticks(np.arange(min(x), max(x)+1, 1.0))\n",
    "ax.set_yticks(np.arange(10, 100, 20.0))\n",
    "plt.xlabel(r'Year', fontsize=16)\n",
    "plt.ylabel(r'Percentile', fontsize=16)\n",
    "plt.title(r'Percent pupils taking test', fontsize=16)\n",
    "plt.show()\n"
   ]
  },
  {
   "cell_type": "markdown",
   "metadata": {},
   "source": [
    "This figures shows us that the worst performing schools in terms of pupils taking the test have no pupils at all taking the test, whereas the best schools have a 40% test participation. \n"
   ]
  },
  {
   "cell_type": "code",
   "execution_count": 12,
   "metadata": {},
   "outputs": [],
   "source": [
    "fig = plt.figure()\n",
    "ax = fig.add_subplot(111, projection='3d')\n",
    "x = df['year']\n",
    "y = df['register_to_take_ratio_bins']\n",
    "z = df['register_to_take_ratio']\n",
    "ax.scatter(x, y, z)\n",
    "plt.ylim((0,100))\n",
    "ax.set_xticks(np.arange(min(x), max(x)+1, 1.0))\n",
    "ax.set_yticks(np.arange(0, 100, 20.0))\n",
    "plt.title(r'Percent registered pupils taking test', fontsize=16)\n",
    "plt.show()\n"
   ]
  },
  {
   "cell_type": "markdown",
   "metadata": {},
   "source": [
    "Another more specific aim would be to increase the number of pupils that registered for the test to actually take the test. In the lowest percentile bins, less than 50% of registered students actually take the test. "
   ]
  },
  {
   "cell_type": "code",
   "execution_count": 13,
   "metadata": {},
   "outputs": [],
   "source": [
    "df['register_percentile'] = get_percentiles(df['registered_for_test'])[0]\n",
    "df['took_test_percentile'] = get_percentiles(df['took_test'])[0]\n",
    "# print(df.shape)\n",
    "# df_low_registrations = df[df['register_percentile'] < 30.]\n",
    "# print(df_low_registrations.shape)\n",
    "# print(df_low_registrations.tail())\n",
    "\n",
    "file_name = 'augmented_D5_SHSAT_Registrations_and_Testers.csv'\n",
    "df.to_csv(file_name)\n"
   ]
  },
  {
   "cell_type": "code",
   "execution_count": null,
   "metadata": {},
   "outputs": [],
   "source": []
  }
 ],
 "metadata": {
  "kernelspec": {
   "display_name": "Python 2",
   "language": "python",
   "name": "python2"
  },
  "language_info": {
   "codemirror_mode": {
    "name": "ipython",
    "version": 2
   },
   "file_extension": ".py",
   "mimetype": "text/x-python",
   "name": "python",
   "nbconvert_exporter": "python",
   "pygments_lexer": "ipython2",
   "version": "2.7.6"
  }
 },
 "nbformat": 4,
 "nbformat_minor": 0
}
